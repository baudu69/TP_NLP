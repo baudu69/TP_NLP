{
 "cells": [
  {
   "cell_type": "code",
   "execution_count": 8,
   "metadata": {
    "collapsed": true,
    "pycharm": {
     "name": "#%%\n"
    }
   },
   "outputs": [],
   "source": [
    "import numpy as np\n",
    "np.set_printoptions(threshold=10000,suppress=True)\n",
    "import pandas as pd\n",
    "import warnings\n",
    "import matplotlib.pyplot as plt\n",
    "warnings.filterwarnings('ignore')\n",
    "import nltk"
   ]
  },
  {
   "cell_type": "markdown",
   "source": [
    "# 1. Téléchargement du dataset"
   ],
   "metadata": {
    "collapsed": false,
    "pycharm": {
     "name": "#%% md\n"
    }
   }
  },
  {
   "cell_type": "code",
   "execution_count": 9,
   "outputs": [
    {
     "name": "stderr",
     "output_type": "stream",
     "text": [
      "[nltk_data] Downloading package reuters to C:\\Users\\Bastien\n",
      "[nltk_data]     Audu\\AppData\\Roaming\\nltk_data...\n"
     ]
    },
    {
     "data": {
      "text/plain": "True"
     },
     "execution_count": 9,
     "metadata": {},
     "output_type": "execute_result"
    }
   ],
   "source": [
    "nltk.download('reuters')"
   ],
   "metadata": {
    "collapsed": false,
    "pycharm": {
     "name": "#%%\n"
    }
   }
  },
  {
   "cell_type": "code",
   "execution_count": 10,
   "outputs": [],
   "source": [
    "from nltk.corpus import reuters\n",
    "train_documents, train_categories = zip(*[(reuters.raw(i), reuters.categories(i)) for i in reuters.fileids() if i.startswith('training/')])\n",
    "test_documents, test_categories = zip(*[(reuters.raw(i), reuters.categories(i)) for i in reuters.fileids() if i.startswith('test/')])"
   ],
   "metadata": {
    "collapsed": false,
    "pycharm": {
     "name": "#%%\n"
    }
   }
  },
  {
   "cell_type": "code",
   "execution_count": 14,
   "outputs": [
    {
     "name": "stdout",
     "output_type": "stream",
     "text": [
      "Taille du corpus : 7769\n"
     ]
    }
   ],
   "source": [
    "print('Taille du corpus : {0:d}'.format(len(train_documents)))"
   ],
   "metadata": {
    "collapsed": false,
    "pycharm": {
     "name": "#%%\n"
    }
   }
  },
  {
   "cell_type": "markdown",
   "source": [
    "# 2. Transformation des catégories en vecteurs"
   ],
   "metadata": {
    "collapsed": false,
    "pycharm": {
     "name": "#%% md\n"
    }
   }
  },
  {
   "cell_type": "code",
   "execution_count": 29,
   "outputs": [],
   "source": [
    "from sklearn.preprocessing import MultiLabelBinarizer\n",
    "\n",
    "mlb = MultiLabelBinarizer()\n",
    "train_labels = mlb.fit_transform(train_categories)\n",
    "test_labels = mlb.transform(test_categories)"
   ],
   "metadata": {
    "collapsed": false,
    "pycharm": {
     "name": "#%%\n"
    }
   }
  },
  {
   "cell_type": "markdown",
   "source": [
    "# 3. Models"
   ],
   "metadata": {
    "collapsed": false,
    "pycharm": {
     "name": "#%% md\n"
    }
   }
  },
  {
   "cell_type": "code",
   "execution_count": 37,
   "outputs": [],
   "source": [
    "from sklearn.svm import LinearSVC\n",
    "from sklearn.multiclass import OneVsRestClassifier\n",
    "from sklearn.ensemble import RandomForestRegressor\n",
    "from sklearn.neighbors import KNeighborsRegressor\n",
    "from sklearn.neural_network import MLPRegressor\n",
    "from sklearn.metrics import mean_absolute_error, accuracy_score, confusion_matrix\n",
    "from sklearn.model_selection import KFold, cross_val_score\n",
    "\n",
    "algos = {\n",
    "    'RF': RandomForestRegressor(n_estimators=50, random_state=1, n_jobs=-1),\n",
    "    'KNN': KNeighborsRegressor(n_neighbors=5, n_jobs=-1, metric='cosine'),\n",
    "    'MLP': MLPRegressor(hidden_layer_sizes=(20, 10), max_iter=200, random_state=1, alpha=0.001),\n",
    "    'OVSR': OneVsRestClassifier(LinearSVC(random_state=0))\n",
    "}\n",
    "\n",
    "\n",
    "def run_models(X_train, Y_train, X_test, Y_test, algos):\n",
    "    for algo_name in algos:\n",
    "        model = algos[algo_name]\n",
    "        model.fit(X_train, Y_train)\n",
    "        prediction = model.predict(X_test)\n",
    "        MAE = mean_absolute_error(Y_test, prediction)\n",
    "        ACC = accuracy_score(Y_test, np.round(prediction))\n",
    "        kf = KFold(n_splits=10, random_state = 42, shuffle = True)\n",
    "        scores = cross_val_score(model, X_train, train_labels, cv = kf)\n",
    "        print('################## {0} #############'.format(algo_name))\n",
    "        print('Cross-validation accuracy: {:.4f} (+/- {:.4f})'.format(scores.mean(), scores.std() * 2))\n",
    "        # print('MAE = {0:.3f}, Accuracy ={1:.3f}'.format(scores.mean(), ACC))\n",
    "        print()\n"
   ],
   "metadata": {
    "collapsed": false,
    "pycharm": {
     "name": "#%%\n"
    }
   }
  },
  {
   "cell_type": "markdown",
   "source": [
    "# 4. TF-IDF"
   ],
   "metadata": {
    "collapsed": false,
    "pycharm": {
     "name": "#%% md\n"
    }
   }
  },
  {
   "cell_type": "code",
   "execution_count": 19,
   "outputs": [],
   "source": [
    "from sklearn.feature_extraction.text import CountVectorizer,TfidfTransformer,TfidfVectorizer\n",
    "CV=CountVectorizer(max_features=1000,stop_words='english')\n",
    "CV.fit(train_documents)\n",
    "corpus_train_CV=CV.transform(train_documents)\n",
    "corpus_test_CV=CV.transform(test_documents)\n",
    "\n",
    "TFIDF=TfidfTransformer()\n",
    "TFIDF.fit(corpus_train_CV)\n",
    "corpus_train_tfidf=TFIDF.transform(corpus_train_CV)\n",
    "corpus_test_tfidf=TFIDF.transform(corpus_test_CV)\n",
    "\n",
    "\n",
    "\n",
    "TFIDF=TfidfVectorizer(max_features=1000,stop_words='english')\n",
    "TFIDF.fit(train_documents)\n",
    "corpus_train_tfidf=TFIDF.transform(train_documents)\n",
    "corpus_test_tfidf=TFIDF.transform(test_documents)"
   ],
   "metadata": {
    "collapsed": false,
    "pycharm": {
     "name": "#%%\n"
    }
   }
  },
  {
   "cell_type": "markdown",
   "source": [
    "# 5. Exécution des modèles"
   ],
   "metadata": {
    "collapsed": false,
    "pycharm": {
     "name": "#%% md\n"
    }
   }
  },
  {
   "cell_type": "code",
   "execution_count": 38,
   "outputs": [
    {
     "name": "stdout",
     "output_type": "stream",
     "text": [
      "################## RF #############\n",
      "Cross-validation accuracy: 0.3072 (+/- 0.0279)\n",
      "\n",
      "################## KNN #############\n",
      "Cross-validation accuracy: 0.3838 (+/- 0.0731)\n",
      "\n",
      "################## MLP #############\n",
      "Cross-validation accuracy: 0.0349 (+/- 0.0110)\n",
      "\n",
      "################## OVSR #############\n",
      "Cross-validation accuracy: 0.8176 (+/- 0.0304)\n",
      "\n"
     ]
    }
   ],
   "source": [
    "run_models (corpus_train_tfidf.toarray(),train_labels,corpus_test_tfidf.toarray(),test_labels,algos)"
   ],
   "metadata": {
    "collapsed": false,
    "pycharm": {
     "name": "#%%\n"
    }
   }
  },
  {
   "cell_type": "markdown",
   "source": [
    "# 6. Vectorisation par SVD"
   ],
   "metadata": {
    "collapsed": false,
    "pycharm": {
     "name": "#%% md\n"
    }
   }
  },
  {
   "cell_type": "code",
   "execution_count": 39,
   "outputs": [
    {
     "data": {
      "text/plain": "(7769, 100)"
     },
     "execution_count": 39,
     "metadata": {},
     "output_type": "execute_result"
    }
   ],
   "source": [
    "from sklearn.decomposition import TruncatedSVD\n",
    "\n",
    "SVD = TruncatedSVD(n_components=100)\n",
    "SVD.fit(corpus_train_tfidf)\n",
    "corpus_train_SVD = SVD.transform(corpus_train_tfidf)\n",
    "corpus_test_SVD = SVD.transform(corpus_test_tfidf)\n",
    "corpus_train_SVD.shape"
   ],
   "metadata": {
    "collapsed": false,
    "pycharm": {
     "name": "#%%\n"
    }
   }
  },
  {
   "cell_type": "code",
   "execution_count": 40,
   "outputs": [
    {
     "name": "stdout",
     "output_type": "stream",
     "text": [
      "################## RF #############\n",
      "Cross-validation accuracy: 0.2277 (+/- 0.0325)\n",
      "\n",
      "################## KNN #############\n",
      "Cross-validation accuracy: 0.3364 (+/- 0.0592)\n",
      "\n",
      "################## MLP #############\n",
      "Cross-validation accuracy: -0.0078 (+/- 0.0114)\n",
      "\n",
      "################## OVSR #############\n",
      "Cross-validation accuracy: 0.7659 (+/- 0.0354)\n",
      "\n"
     ]
    }
   ],
   "source": [
    "run_models (corpus_train_SVD,train_labels,corpus_test_SVD,test_labels,algos)"
   ],
   "metadata": {
    "collapsed": false,
    "pycharm": {
     "name": "#%%\n"
    }
   }
  },
  {
   "cell_type": "code",
   "execution_count": 45,
   "outputs": [
    {
     "name": "stdout",
     "output_type": "stream",
     "text": [
      "Concept #0: vs cts mln 000 loss net shr dlrs profit revs\n",
      "Concept #1: said pct dlrs company billion bank shares mln lt stock\n",
      "Concept #2: cts div qtly record april pay prior dividend sets march\n",
      "Concept #3: billion bank pct stg mln february vs january money trade\n",
      "Concept #4: loss 000 profit trade tonnes pct japan said dollar rate\n",
      "Concept #5: 000 tonnes wheat said sugar net trade export vs ec\n",
      "Concept #6: dlrs tonnes 1986 billion year quarter earnings 1987 january february\n",
      "Concept #7: pct february january 000 shares stock rose stake rate common\n",
      "Concept #8: stg tonnes 000 mln loss wheat bank money market pct\n",
      "Concept #9: 000 dlrs bank billion oper fed money quarter share dollar\n",
      "Concept #10: billion stock split dividend trade tonnes shares common board declared\n",
      "Concept #11: split dividend stock share quarter earnings 1987 declared payable rate\n",
      "Concept #12: oil billion crude gas split 000 opec barrels stock reserves\n",
      "Concept #13: dlrs fed says mln shares offer rate pct week oper\n",
      "Concept #14: trade stg oper shares stake japan dlrs share 000 japanese\n",
      "Concept #15: offer cts share wheat tender stg 1987 profit earnings quarter\n",
      "Concept #16: profit dollar stake shares yen group 1987 exchange mln says\n",
      "Concept #17: fed says customer stg repurchase federal reserves agreements sets funds\n",
      "Concept #18: profit oper excludes tax pct rate dividend gain prime ec\n",
      "Concept #19: offer profit february tender january says share japan dollar merger\n",
      "Concept #20: oper tonnes cts yen dollar japan sugar fed stg unit\n",
      "Concept #21: coffee february ico january dollar oper brazil quotas delegates cocoa\n",
      "Concept #22: profit dlrs ec trade sugar cts bank tonnes qtr prices\n",
      "Concept #23: ec sugar rate european tender tonnes tax community says offer\n",
      "Concept #24: bank merger shares cts savings oper tonnes common federal january\n",
      "Concept #25: gold ounces japan ton reserves feet dividend ore japanese tons\n",
      "Concept #26: dividend march group stake says 31 bank payable sale week\n",
      "Concept #27: coffee 1987 japan pct tonnes april japanese corp ico fed\n",
      "Concept #28: says gold baker rate corp merger march treasury deficit prime\n",
      "Concept #29: split march offer 1987 sets sale bank payout says week\n",
      "Concept #30: 1987 ec gold march dividend 31 coffee tax reserves gas\n",
      "Concept #31: march merger japan 31 1987 ec sales japanese vs yen\n",
      "Concept #32: canadian canada 1987 corn cts sugar price crude mln dividend\n",
      "Concept #33: says sales bank gold ec 1987 january group april company\n",
      "Concept #34: prime raises rate 50 february effective shares mln oper crude\n",
      "Concept #35: sales canadian canada corn quarter coffee shares gold trade gas\n",
      "Concept #36: group american stock cocoa buffer usair acquisition 1986 price says\n",
      "Concept #37: sugar usair twa group department sales 1987 april rate savings\n",
      "Concept #38: corp sales acquisition dividend week says oper stock feb union\n",
      "Concept #39: american corn sugar split corp coffee usda year shares merger\n",
      "Concept #40: usair twa group qtr split piedmont cts mln acquisition pct\n",
      "Concept #41: avg shrs vs says year bank sets gold prices group\n",
      "Concept #42: american 1987 february canadian group rate marks bundesbank tender express\n",
      "Concept #43: sale opec francs cts wheat billion quarter japan shares american\n",
      "Concept #44: gas usair twa 10 share revs unit earnings sugar corp\n",
      "Concept #45: francs net american sugar usair 31 wheat twa 1st rate\n",
      "Concept #46: merger corp wheat bank trade split stake cyclops francs week\n",
      "Concept #47: sale shares american usair tonnes twa vs corp government avg\n",
      "Concept #48: american sugar cts wheat company gas march pct avg trade\n",
      "Concept #49: francs share american group payout sets sales unit union april\n",
      "Concept #50: quarter sale savings federal yen dollar 1st loan deficit stock\n",
      "Concept #51: sugar quarter group cyclops wheat japan prime canada dixons savings\n",
      "Concept #52: marks bundesbank shares german credit year west net union wheat\n",
      "Concept #53: gas february 10 savings week feb francs split japan federal\n",
      "Concept #54: year unit sell american shares cyclops dixons products 25 industries\n",
      "Concept #55: 10 cyclops company corp dixons corn marks 31 group bundesbank\n",
      "Concept #56: corn february francs tender cyclops oil company stock 20 dixons\n",
      "Concept #57: gencorp acquisition general systems corn partners sugar group reserves 1986\n",
      "Concept #58: year 10 baker cts december sale credit acquisition department crude\n",
      "Concept #59: gulf split 15 cyclops december week dixons iran 31 qtly\n",
      "Concept #60: 10 gencorp group general tax trade december share 31 sale\n",
      "Concept #61: china 10 1986 wheat foreign opec offer gulf south american\n",
      "Concept #62: opec payout sale 15 company union sales bpd year 18\n",
      "Concept #63: gulf iran francs merger 4th cocoa payout china trust says\n",
      "Concept #64: cyclops tender new dixons quarterly acquisition american merger group quarter\n",
      "Concept #65: quarterly sets share savings 20 china loan deficit yen opec\n",
      "Concept #66: gulf tax stock baker december coffee payout feb iran january\n",
      "Concept #67: systems merger industries exchange rates says 15 talks plc strike\n",
      "Concept #68: gulf corp gencorp 31 iran general marks prices agreement 10\n",
      "Concept #69: deficit baker 10 acquisition price said opec stake prices market\n",
      "Concept #70: cyclops gencorp dixons 25 china south 20 15 copper sets\n",
      "Concept #71: south rates taiwan 50 surplus board gulf bank tax group\n",
      "Concept #72: 31 quarterly earnings sets savings marks jan corp 30 international\n",
      "Concept #73: 17 china systems 50 baker grain new february rates tax\n",
      "Concept #74: quarter 20 international corn plc unit trust january december wheat\n",
      "Concept #75: 25 week wheat group trust 10 corn taft financial year\n",
      "Concept #76: systems grain board reserves 10 sets computer ships taft cyclops\n",
      "Concept #77: grain 20 acquisition credit qtr 25 rates ships year baker\n",
      "Concept #78: cyclops stake sell earnings dixons payout gencorp agreement lt industries\n",
      "Concept #79: week qtr quarterly 17 april 1986 4th sets price tax\n",
      "Concept #80: international grain sell growth 15 1986 nil 11 japan south\n",
      "Concept #81: 20 price copper grain official sell marks industries april deficit\n",
      "Concept #82: 25 11 30 tender stg official unit board west nil\n",
      "Concept #83: stock 15 marks report offer cyclops cash 30 business quarterly\n",
      "Concept #84: 20 new pacific official export systems share cyclops refinery bpd\n",
      "Concept #85: international china 30 nil 12 trust feb stores systems banks\n",
      "Concept #86: 15 stores year 4th official 11 national qtr united surplus\n",
      "Concept #87: south 17 sets industries department 11 japanese payout business export\n",
      "Concept #88: 16 industries products 17 talks brazil merger grain qtr acquisition\n",
      "Concept #89: industries 30 rates brazil 12 strike gulf oil payout national\n",
      "Concept #90: south 25 unit grain 30 buy bid acquire africa june\n",
      "Concept #91: 12 nil 50 brazil debt official 11 rate banks prices\n",
      "Concept #92: copper 28 24 group rates grain feb unit export report\n",
      "Concept #93: soviet industries copper oil 1987 11 china brazil guilders quarterly\n",
      "Concept #94: buys official 15 march international gain gas bid taiwan 13\n",
      "Concept #95: national international 11 april rate week prices world production company\n",
      "Concept #96: buy 16 nil systems tender sale 13 1st industries board\n",
      "Concept #97: pacific tax industries national 30 prices 15 company taft dlr\n",
      "Concept #98: 17 16 air share stores buy agreement purolator 30 rate\n",
      "Concept #99: 12 11 business 30 acquisition talks 20 south surplus stock\n",
      "\n"
     ]
    }
   ],
   "source": [
    "def print_top_words(model, feature_names, n_top_words):\n",
    "    for topic_idx, topic in enumerate(model.components_):\n",
    "        message = \"Concept #%d: \" % topic_idx\n",
    "        message += \" \".join([feature_names[i] for i in topic.argsort()[:-n_top_words - 1:-1]])\n",
    "        print(message)\n",
    "    print()\n",
    "\n",
    "\n",
    "print_top_words(SVD, TFIDF.get_feature_names_out(), 10)"
   ],
   "metadata": {
    "collapsed": false,
    "pycharm": {
     "name": "#%%\n"
    }
   }
  },
  {
   "cell_type": "code",
   "execution_count": null,
   "outputs": [],
   "source": [],
   "metadata": {
    "collapsed": false,
    "pycharm": {
     "name": "#%%\n"
    }
   }
  }
 ],
 "metadata": {
  "kernelspec": {
   "display_name": "Python 3",
   "language": "python",
   "name": "python3"
  },
  "language_info": {
   "codemirror_mode": {
    "name": "ipython",
    "version": 2
   },
   "file_extension": ".py",
   "mimetype": "text/x-python",
   "name": "python",
   "nbconvert_exporter": "python",
   "pygments_lexer": "ipython2",
   "version": "2.7.6"
  }
 },
 "nbformat": 4,
 "nbformat_minor": 0
}